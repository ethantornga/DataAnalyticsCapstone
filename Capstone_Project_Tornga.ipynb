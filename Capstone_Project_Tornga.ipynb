{
  "nbformat": 4,
  "nbformat_minor": 0,
  "metadata": {
    "colab": {
      "provenance": []
    },
    "kernelspec": {
      "name": "python3",
      "display_name": "Python 3"
    },
    "language_info": {
      "name": "python"
    }
  },
  "cells": [
    {
      "cell_type": "code",
      "source": [
        "!git clone https://github.com/ethantornga/DataAnalyticsCapstone.git"
      ],
      "metadata": {
        "colab": {
          "base_uri": "https://localhost:8080/"
        },
        "id": "_5lhddYV0nf_",
        "outputId": "0dbaee51-9100-47bd-abb0-6b49e6cbf4e3"
      },
      "execution_count": 9,
      "outputs": [
        {
          "output_type": "stream",
          "name": "stdout",
          "text": [
            "fatal: destination path 'DataAnalyticsCapstone' already exists and is not an empty directory.\n"
          ]
        }
      ]
    },
    {
      "cell_type": "code",
      "source": [
        "#Import libraries\n",
        "import pandas as pd\n",
        "import numpy as np\n",
        "import seaborn as sns\n",
        "import itertools as it\n",
        "import collections as co\n",
        "import time\n",
        "\n",
        "from sklearn import datasets, metrics, neighbors, naive_bayes, linear_model, dummy, pipeline, feature_selection as ftr_sel, model_selection as skms, preprocessing as skpre\n",
        "from sklearn.naive_bayes import GaussianNB\n",
        "from sklearn.multiclass import OneVsRestClassifier\n",
        "from sklearn import tree, svm, ensemble as ens\n",
        "from sklearn.svm import SVR\n",
        "from sklearn.metrics import mean_squared_error, make_scorer\n",
        "from sklearn.preprocessing import StandardScaler\n",
        "from sklearn.linear_model import LinearRegression\n",
        "from sklearn.model_selection import cross_val_score, cross_val_predict, GridSearchCV, ParameterGrid\n",
        "from sklearn.feature_selection import SelectKBest, f_regression\n",
        "\n",
        "from scipy.stats import zscore\n",
        "from matplotlib import pyplot as plt\n",
        "%matplotlib inline"
      ],
      "metadata": {
        "id": "HiYfquTS0ytW"
      },
      "execution_count": 10,
      "outputs": []
    },
    {
      "cell_type": "code",
      "execution_count": 15,
      "metadata": {
        "colab": {
          "base_uri": "https://localhost:8080/"
        },
        "id": "s_WTpyW0y_6U",
        "outputId": "7a37c640-406d-45de-859d-2dc2a9ccf0ec"
      },
      "outputs": [
        {
          "output_type": "stream",
          "name": "stdout",
          "text": [
            "   Person ID  Age  Gender Undergraduate Major  Undergraduate GPA  \\\n",
            "0          1   27    Male                Arts               3.18   \n",
            "1          2   24    Male                Arts               3.03   \n",
            "2          3   33  Female            Business               3.66   \n",
            "3          4   31    Male         Engineering               2.46   \n",
            "4          5   28  Female            Business               2.75   \n",
            "\n",
            "   Years of Work Experience Current Job Title  Annual Salary (Before MBA)  \\\n",
            "0                         8      Entrepreneur                       90624   \n",
            "1                         4           Analyst                       53576   \n",
            "2                         9          Engineer                       79796   \n",
            "3                         1           Manager                      105956   \n",
            "4                         9      Entrepreneur                       96132   \n",
            "\n",
            "  Has Management Experience  GRE/GMAT Score  Undergrad University Ranking  \\\n",
            "0                        No             688                           185   \n",
            "1                       Yes             791                           405   \n",
            "2                        No             430                           107   \n",
            "3                        No             356                           257   \n",
            "4                        No             472                           338   \n",
            "\n",
            "   Entrepreneurial Interest  Networking Importance MBA Funding Source  \\\n",
            "0                       7.9                    7.6               Loan   \n",
            "1                       3.8                    4.1               Loan   \n",
            "2                       6.7                    5.5        Scholarship   \n",
            "3                       1.0                    5.3               Loan   \n",
            "4                       9.5                    4.9               Loan   \n",
            "\n",
            "  Desired Post-MBA Role  Expected Post-MBA Salary  \\\n",
            "0       Finance Manager                    156165   \n",
            "1       Startup Founder                    165612   \n",
            "2            Consultant                    122248   \n",
            "3            Consultant                    123797   \n",
            "4            Consultant                    197509   \n",
            "\n",
            "  Location Preference (Post-MBA)     Reason for MBA Online vs. On-Campus MBA  \\\n",
            "0                  International   Entrepreneurship                On-Campus   \n",
            "1                  International      Career Growth                   Online   \n",
            "2                       Domestic  Skill Enhancement                   Online   \n",
            "3                  International   Entrepreneurship                On-Campus   \n",
            "4                       Domestic  Skill Enhancement                   Online   \n",
            "\n",
            "  Decided to Pursue MBA?  \n",
            "0                    Yes  \n",
            "1                     No  \n",
            "2                     No  \n",
            "3                     No  \n",
            "4                    Yes  \n"
          ]
        }
      ],
      "source": [
        "#1. Load the Data\n",
        "\n",
        "data = \"/content/DataAnalyticsCapstone/mba_decision_dataset.csv\"\n",
        "df = pd.read_csv(data)\n",
        "\n",
        "print(df.head())"
      ]
    }
  ]
}